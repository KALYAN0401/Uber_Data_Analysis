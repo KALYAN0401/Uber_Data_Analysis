{
 "cells": [
  {
   "cell_type": "code",
   "execution_count": null,
   "id": "3e372ab2",
   "metadata": {},
   "outputs": [],
   "source": [
    "import numpy as np\n",
    "import pandas as pd\n",
    "import matplotlib.pyplot as plt\n",
    "import seaborn as sns\n",
    "import os"
   ]
  },
  {
   "cell_type": "markdown",
   "id": "fb4fe0eb",
   "metadata": {},
   "source": [
    "\n",
    "# Collecting data\n",
    "\n"
   ]
  },
  {
   "cell_type": "code",
   "execution_count": null,
   "id": "a4851d2a",
   "metadata": {},
   "outputs": [],
   "source": [
    "files=os.listdir(r'C:\\Users\\Kalyan\\Desktop\\Portfolio\\Untitled Folder')[-7:]\n",
    "files"
   ]
  },
  {
   "cell_type": "code",
   "execution_count": null,
   "id": "72506a35",
   "metadata": {},
   "outputs": [],
   "source": [
    "files.remove('uber-raw-data-janjune-15.csv')"
   ]
  },
  {
   "cell_type": "code",
   "execution_count": null,
   "id": "9de9be04",
   "metadata": {},
   "outputs": [],
   "source": [
    "files"
   ]
  },
  {
   "cell_type": "code",
   "execution_count": null,
   "id": "06fe7f03",
   "metadata": {},
   "outputs": [],
   "source": [
    "\n",
    "finaldf = pd.DataFrame()\n",
    "for file in files:\n",
    "    df=pd.read_csv(file,encoding='utf-8')\n",
    "    finaldf=pd.concat([finaldf,df])"
   ]
  },
  {
   "cell_type": "code",
   "execution_count": null,
   "id": "ddb1c7f7",
   "metadata": {},
   "outputs": [],
   "source": [
    "finaldf"
   ]
  },
  {
   "cell_type": "markdown",
   "id": "6b81c96c",
   "metadata": {},
   "source": [
    "\n",
    "# Preparing Data\n",
    "\n"
   ]
  },
  {
   "cell_type": "code",
   "execution_count": null,
   "id": "9e75e475",
   "metadata": {},
   "outputs": [],
   "source": [
    "df1=finaldf.copy()\n"
   ]
  },
  {
   "cell_type": "code",
   "execution_count": null,
   "id": "bd406f50",
   "metadata": {},
   "outputs": [],
   "source": [
    "df1.dtypes"
   ]
  },
  {
   "cell_type": "markdown",
   "id": "7bd347b0",
   "metadata": {},
   "source": [
    " DATE/TIME"
   ]
  },
  {
   "cell_type": "code",
   "execution_count": null,
   "id": "7c6b3a19",
   "metadata": {},
   "outputs": [],
   "source": [
    "df1['Date/Time']=pd.to_datetime(df1['Date/Time'],format='%m/%d/%Y %H:%M:%S')"
   ]
  },
  {
   "cell_type": "code",
   "execution_count": null,
   "id": "a9a52c32",
   "metadata": {},
   "outputs": [],
   "source": [
    "df1['WEEKDAY']=df1['Date/Time'].dt.day_name()\n"
   ]
  },
  {
   "cell_type": "code",
   "execution_count": null,
   "id": "1d9cc097",
   "metadata": {},
   "outputs": [],
   "source": [
    "df1['day']=df1['Date/Time'].dt.day\n",
    "df1['minute']=df1['Date/Time'].dt.minute\n",
    "df1['month']=df1['Date/Time'].dt.month\n",
    "df1['hour']=df1['Date/Time'].dt.hour\n"
   ]
  },
  {
   "cell_type": "code",
   "execution_count": null,
   "id": "244b8652",
   "metadata": {},
   "outputs": [],
   "source": [
    "df1"
   ]
  },
  {
   "cell_type": "markdown",
   "id": "dd64c0b9",
   "metadata": {},
   "source": [
    "# Analysis by weekday \n"
   ]
  },
  {
   "cell_type": "code",
   "execution_count": null,
   "id": "0fdf8d26",
   "metadata": {},
   "outputs": [],
   "source": [
    "import plotly.express as px"
   ]
  },
  {
   "cell_type": "code",
   "execution_count": null,
   "id": "3863c465",
   "metadata": {},
   "outputs": [],
   "source": [
    "df1['WEEKDAY'].value_counts()"
   ]
  },
  {
   "cell_type": "code",
   "execution_count": null,
   "id": "3ec24d2a",
   "metadata": {
    "scrolled": true
   },
   "outputs": [],
   "source": [
    "px.bar(x=df1['WEEKDAY'].value_counts().index,\n",
    "      y=df1['WEEKDAY'].value_counts())"
   ]
  },
  {
   "cell_type": "code",
   "execution_count": null,
   "id": "1d4cfc93",
   "metadata": {},
   "outputs": [],
   "source": []
  },
  {
   "cell_type": "code",
   "execution_count": null,
   "id": "9b089ff0",
   "metadata": {},
   "outputs": [],
   "source": []
  },
  {
   "cell_type": "markdown",
   "id": "90ccc68a",
   "metadata": {},
   "source": [
    "# Analysis by hour"
   ]
  },
  {
   "cell_type": "code",
   "execution_count": null,
   "id": "badcc853",
   "metadata": {},
   "outputs": [],
   "source": [
    "plt.hist(df1['hour'])"
   ]
  },
  {
   "cell_type": "markdown",
   "id": "f8c87905",
   "metadata": {},
   "source": [
    "# Analysis by month\n"
   ]
  },
  {
   "cell_type": "code",
   "execution_count": null,
   "id": "990b31db",
   "metadata": {},
   "outputs": [],
   "source": [
    "df1['month'].unique()"
   ]
  },
  {
   "cell_type": "code",
   "execution_count": null,
   "id": "943ae4e0",
   "metadata": {},
   "outputs": [],
   "source": [
    "plt.figure(figsize=(40,20))\n",
    "for i,month in enumerate(df1['month'].unique()):\n",
    "    plt.subplot(3,2,i+1)\n",
    "    df1[df1['month']==month]['hour'].hist()\n",
    "    "
   ]
  },
  {
   "cell_type": "code",
   "execution_count": null,
   "id": "51069faf",
   "metadata": {},
   "outputs": [],
   "source": [
    "# Maximum number of rides"
   ]
  },
  {
   "cell_type": "code",
   "execution_count": null,
   "id": "ac29e763",
   "metadata": {},
   "outputs": [],
   "source": [
    "df1"
   ]
  },
  {
   "cell_type": "code",
   "execution_count": null,
   "id": "15bc1df5",
   "metadata": {},
   "outputs": [],
   "source": []
  },
  {
   "cell_type": "code",
   "execution_count": null,
   "id": "03760820",
   "metadata": {},
   "outputs": [],
   "source": [
    "\n",
    "import plotly.graph_objs as go\n",
    "\n",
    "from plotly.offline import download_plotlyjs,init_notebook_mode,plot,iplot"
   ]
  },
  {
   "cell_type": "code",
   "execution_count": null,
   "id": "a5b6950b",
   "metadata": {},
   "outputs": [],
   "source": [
    "df1.groupby('month')['hour'].count().index"
   ]
  },
  {
   "cell_type": "code",
   "execution_count": null,
   "id": "9fd66bfc",
   "metadata": {},
   "outputs": [],
   "source": [
    "max_trips=px.bar(x=df1.groupby('month')['hour'].count().index,\n",
    "      y=df1.groupby('month')['hour'].count())"
   ]
  },
  {
   "cell_type": "code",
   "execution_count": null,
   "id": "c007b1ef",
   "metadata": {},
   "outputs": [],
   "source": [
    "max_trips"
   ]
  },
  {
   "cell_type": "code",
   "execution_count": null,
   "id": "7188b63a",
   "metadata": {},
   "outputs": [],
   "source": []
  },
  {
   "cell_type": "code",
   "execution_count": null,
   "id": "957051cb",
   "metadata": {},
   "outputs": [],
   "source": [
    "plt.figure(figsize=(9,8))\n",
    "plt.hist(df1['day'],bins=30,rwidth=0.8,range=(0.5,30.5))\n",
    "plt.xlabel('days in month')\n",
    "plt.ylabel('journys Total')\n",
    "plt.title('Journys in days')"
   ]
  },
  {
   "cell_type": "code",
   "execution_count": null,
   "id": "61a0b87b",
   "metadata": {},
   "outputs": [],
   "source": [
    "\n"
   ]
  },
  {
   "cell_type": "code",
   "execution_count": null,
   "id": "f61c28f1",
   "metadata": {},
   "outputs": [],
   "source": [
    "plt.figure(figsize=(30,18))\n",
    "for i,month in enumerate(df1['month'].unique()):\n",
    "    plt.subplot(3,2,i+1)\n",
    "    df1[df1['month']==month]['day'].hist()\n",
    "    plt.xlabel('DAYS IN MONTH OF {}'.format(month))\n",
    "    plt.ylabel('total no of trides')\n",
    "    plt.title('NO OF RIDES IN MONTH')"
   ]
  },
  {
   "cell_type": "code",
   "execution_count": null,
   "id": "8a8bef5a",
   "metadata": {},
   "outputs": [],
   "source": [
    "ax=sns.pointplot(x='hour',y='Lat',data=df1)\n",
    "ax.set_title('houroffday vs latitude of passanges')"
   ]
  },
  {
   "cell_type": "code",
   "execution_count": null,
   "id": "8c96f7c1",
   "metadata": {},
   "outputs": [],
   "source": [
    "df1"
   ]
  },
  {
   "cell_type": "code",
   "execution_count": null,
   "id": "d291a52e",
   "metadata": {},
   "outputs": [],
   "source": [
    "base=df1.groupby(['Base','month'])['Date/Time'].count().reset_index()\n",
    "base"
   ]
  },
  {
   "cell_type": "code",
   "execution_count": null,
   "id": "75915b6d",
   "metadata": {},
   "outputs": [],
   "source": [
    "sns.lineplot(x='month',y='Date/Time',hue='Base',data=base)"
   ]
  },
  {
   "cell_type": "code",
   "execution_count": null,
   "id": "d16cd525",
   "metadata": {},
   "outputs": [],
   "source": []
  },
  {
   "cell_type": "markdown",
   "id": "2021b17c",
   "metadata": {},
   "source": [
    "# Heat maps"
   ]
  },
  {
   "cell_type": "code",
   "execution_count": null,
   "id": "73c55cbb",
   "metadata": {},
   "outputs": [],
   "source": []
  },
  {
   "cell_type": "code",
   "execution_count": null,
   "id": "672f5e6d",
   "metadata": {},
   "outputs": [],
   "source": [
    "def count_rows(n):\n",
    "    return len(n)"
   ]
  },
  {
   "cell_type": "code",
   "execution_count": null,
   "id": "7eb3a4d7",
   "metadata": {},
   "outputs": [],
   "source": [
    "def heat_map(col1,col2):\n",
    "    by_cross=df1.groupby([col1,col2]).apply(count_rows)\n",
    "    pivolt=by_cross.unstack()\n",
    "    return sns.heatmap(pivolt)"
   ]
  },
  {
   "cell_type": "code",
   "execution_count": null,
   "id": "062b6503",
   "metadata": {},
   "outputs": [],
   "source": [
    "plt.figure(figsize=(9,8))\n",
    "heat_map('WEEKDAY','hour')\n"
   ]
  },
  {
   "cell_type": "code",
   "execution_count": null,
   "id": "dcf32a63",
   "metadata": {},
   "outputs": [],
   "source": [
    "plt.figure(figsize=(9,8))\n",
    "heat_map('hour','day')"
   ]
  },
  {
   "cell_type": "code",
   "execution_count": null,
   "id": "b3342e05",
   "metadata": {},
   "outputs": [],
   "source": [
    "plt.figure(figsize=(9,8))\n",
    "heat_map('month','day')"
   ]
  },
  {
   "cell_type": "code",
   "execution_count": null,
   "id": "b80f37ae",
   "metadata": {},
   "outputs": [],
   "source": [
    "plt.figure(figsize=(9,8))\n",
    "heat_map('month','WEEKDAY')"
   ]
  },
  {
   "cell_type": "code",
   "execution_count": null,
   "id": "139692a3",
   "metadata": {},
   "outputs": [],
   "source": [
    "df1"
   ]
  },
  {
   "cell_type": "code",
   "execution_count": null,
   "id": "c81bff18",
   "metadata": {},
   "outputs": [],
   "source": [
    "plt.plot(df1['Lon'],df1['Lat'],'r+')\n"
   ]
  },
  {
   "cell_type": "code",
   "execution_count": null,
   "id": "9b1576c8",
   "metadata": {},
   "outputs": [],
   "source": [
    "df1_out=df1[df1['WEEKDAY']=='Tuesday']\n",
    "tue_df=df1_out.groupby(['Lon','Lat'])['WEEKDAY'].count().reset_index()\n"
   ]
  },
  {
   "cell_type": "code",
   "execution_count": null,
   "id": "ce1a7ae2",
   "metadata": {},
   "outputs": [],
   "source": [
    "tue_df.columns=['Lon', 'Lat', 'trips']"
   ]
  },
  {
   "cell_type": "code",
   "execution_count": null,
   "id": "3bc07022",
   "metadata": {},
   "outputs": [],
   "source": []
  },
  {
   "cell_type": "code",
   "execution_count": null,
   "id": "965770e6",
   "metadata": {},
   "outputs": [],
   "source": [
    "import folium"
   ]
  },
  {
   "cell_type": "code",
   "execution_count": null,
   "id": "81a4b8e1",
   "metadata": {},
   "outputs": [],
   "source": [
    "from folium.plugins import HeatMap"
   ]
  },
  {
   "cell_type": "code",
   "execution_count": null,
   "id": "e40903d5",
   "metadata": {},
   "outputs": [],
   "source": [
    "\n"
   ]
  },
  {
   "cell_type": "code",
   "execution_count": null,
   "id": "47a20608",
   "metadata": {},
   "outputs": [],
   "source": []
  },
  {
   "cell_type": "code",
   "execution_count": null,
   "id": "4449851c",
   "metadata": {},
   "outputs": [],
   "source": [
    "def heat_map(day):\n",
    "    base_map=folium.Map()\n",
    "    df1_out=df1[df1['WEEKDAY']==day]\n",
    "    tue_df=df1_out.groupby(['Lat','Lon'])['WEEKDAY'].count().reset_index()\n",
    "    HeatMap(tue_df,radius=15,max_zoom=20).add_to(base_map)\n",
    "    return base_map\n",
    "    "
   ]
  },
  {
   "cell_type": "code",
   "execution_count": null,
   "id": "4c8ec77e",
   "metadata": {},
   "outputs": [],
   "source": [
    "heat_map('Sunday')\n"
   ]
  },
  {
   "cell_type": "code",
   "execution_count": null,
   "id": "3d20b1b2",
   "metadata": {},
   "outputs": [],
   "source": [
    "heat_map('Monday')"
   ]
  },
  {
   "cell_type": "code",
   "execution_count": null,
   "id": "c3d62453",
   "metadata": {},
   "outputs": [],
   "source": [
    "heat_map('Tuesday')"
   ]
  },
  {
   "cell_type": "code",
   "execution_count": null,
   "id": "44d65e92",
   "metadata": {},
   "outputs": [],
   "source": [
    "heat_map('Wednesday')"
   ]
  },
  {
   "cell_type": "code",
   "execution_count": null,
   "id": "401f8552",
   "metadata": {},
   "outputs": [],
   "source": [
    "heat_map('Thursday')"
   ]
  },
  {
   "cell_type": "code",
   "execution_count": null,
   "id": "0fc9e10c",
   "metadata": {},
   "outputs": [],
   "source": [
    "heat_map('Friday')"
   ]
  },
  {
   "cell_type": "markdown",
   "id": "46c49e06",
   "metadata": {},
   "source": [
    "# Data colleting for NYC\n"
   ]
  },
  {
   "cell_type": "code",
   "execution_count": null,
   "id": "48f7488d",
   "metadata": {},
   "outputs": [],
   "source": [
    "data_nyc=pd.read_csv('uber-raw-data-janjune-15.csv')\n",
    "data_nyc"
   ]
  },
  {
   "cell_type": "code",
   "execution_count": null,
   "id": "2e26349e",
   "metadata": {},
   "outputs": [],
   "source": [
    "data_n=data_nyc.copy()"
   ]
  },
  {
   "cell_type": "code",
   "execution_count": null,
   "id": "de52d22d",
   "metadata": {},
   "outputs": [],
   "source": [
    "data_n.dtypes"
   ]
  },
  {
   "cell_type": "code",
   "execution_count": null,
   "id": "df750fd9",
   "metadata": {},
   "outputs": [],
   "source": [
    "data_n['Pickup_date']=pd.to_datetime(data_n['Pickup_date'],format='%Y-%m-%d %H:%M:%S')"
   ]
  },
  {
   "cell_type": "code",
   "execution_count": null,
   "id": "a4409541",
   "metadata": {},
   "outputs": [],
   "source": [
    "data_n['Weekday']=data_n['Pickup_date'].dt.day_name()\n",
    "data_n['day']=data_n['Pickup_date'].dt.day\n",
    "data_n['month']=data_n['Pickup_date'].dt.month\n",
    "data_n['hour']=data_n['Pickup_date'].dt.hour\n",
    "data_n['minute']=data_n['Pickup_date'].dt.minute"
   ]
  },
  {
   "cell_type": "code",
   "execution_count": null,
   "id": "4826d453",
   "metadata": {},
   "outputs": [],
   "source": [
    "data_n['month'].value_counts().index"
   ]
  },
  {
   "cell_type": "code",
   "execution_count": null,
   "id": "11e8804e",
   "metadata": {},
   "outputs": [],
   "source": [
    "plt.bar(x=data_n['month'].value_counts().index,height=data_n['month'].value_counts())"
   ]
  },
  {
   "cell_type": "code",
   "execution_count": null,
   "id": "d0bfb370",
   "metadata": {},
   "outputs": [],
   "source": [
    "sns.countplot(x=data_n['hour'])"
   ]
  },
  {
   "cell_type": "code",
   "execution_count": null,
   "id": "d1065b11",
   "metadata": {},
   "outputs": [],
   "source": [
    "data_n"
   ]
  },
  {
   "cell_type": "code",
   "execution_count": null,
   "id": "9d600047",
   "metadata": {},
   "outputs": [],
   "source": [
    "ds=data_n.groupby(['Weekday','hour'])['Pickup_date'].count().reset_index()"
   ]
  },
  {
   "cell_type": "code",
   "execution_count": null,
   "id": "3d363181",
   "metadata": {},
   "outputs": [],
   "source": [
    "ds.columns=['Weekday', 'hour', 'count']"
   ]
  },
  {
   "cell_type": "code",
   "execution_count": null,
   "id": "bce60eeb",
   "metadata": {},
   "outputs": [],
   "source": [
    "ds"
   ]
  },
  {
   "cell_type": "code",
   "execution_count": null,
   "id": "9df01ca9",
   "metadata": {},
   "outputs": [],
   "source": [
    "plt.figure(figsize=(12,8))\n",
    "sns.pointplot(x='hour',y='count',data=ds,hue='Weekday')"
   ]
  },
  {
   "cell_type": "code",
   "execution_count": null,
   "id": "c77f0c03",
   "metadata": {},
   "outputs": [],
   "source": []
  },
  {
   "cell_type": "code",
   "execution_count": null,
   "id": "b91660cb",
   "metadata": {},
   "outputs": [],
   "source": [
    "new_data=pd.read_csv('Uber-Jan-Feb-FOIL.csv')"
   ]
  },
  {
   "cell_type": "code",
   "execution_count": null,
   "id": "31fb0fa5",
   "metadata": {},
   "outputs": [],
   "source": [
    "new=new_data.copy()"
   ]
  },
  {
   "cell_type": "code",
   "execution_count": null,
   "id": "ea9459d1",
   "metadata": {},
   "outputs": [],
   "source": [
    "new.columns=['base_number', 'date', 'active_vehicles', 'trips']\n",
    "new"
   ]
  },
  {
   "cell_type": "code",
   "execution_count": null,
   "id": "dc3b9acf",
   "metadata": {},
   "outputs": [],
   "source": [
    "base_col=new['base_number'].unique()"
   ]
  },
  {
   "cell_type": "code",
   "execution_count": null,
   "id": "d51ee555",
   "metadata": {},
   "outputs": [],
   "source": [
    "sns.boxplot(x='base_number',y='active_vehicles',data=new)"
   ]
  },
  {
   "cell_type": "code",
   "execution_count": null,
   "id": "84683fa3",
   "metadata": {},
   "outputs": [],
   "source": [
    "new"
   ]
  },
  {
   "cell_type": "code",
   "execution_count": null,
   "id": "966e6de2",
   "metadata": {},
   "outputs": [],
   "source": [
    "sns.boxplot(x='base_number',y='active_vehicles',data=new)"
   ]
  },
  {
   "cell_type": "code",
   "execution_count": null,
   "id": "db9201fe",
   "metadata": {},
   "outputs": [],
   "source": [
    "new['trips/vehicles']=new['trips']/new['active_vehicles']"
   ]
  },
  {
   "cell_type": "code",
   "execution_count": null,
   "id": "47a6e6a3",
   "metadata": {},
   "outputs": [],
   "source": [
    "new"
   ]
  },
  {
   "cell_type": "code",
   "execution_count": null,
   "id": "ce74bc66",
   "metadata": {},
   "outputs": [],
   "source": [
    "new.set_index('date').groupby(['base_number'])['trips/vehicles'].plot()\n",
    "plt.title('demand vs supply')"
   ]
  },
  {
   "cell_type": "code",
   "execution_count": null,
   "id": "395f7eed",
   "metadata": {},
   "outputs": [],
   "source": []
  }
 ],
 "metadata": {
  "kernelspec": {
   "display_name": "Python 3 (ipykernel)",
   "language": "python",
   "name": "python3"
  },
  "language_info": {
   "codemirror_mode": {
    "name": "ipython",
    "version": 3
   },
   "file_extension": ".py",
   "mimetype": "text/x-python",
   "name": "python",
   "nbconvert_exporter": "python",
   "pygments_lexer": "ipython3",
   "version": "3.9.7"
  }
 },
 "nbformat": 4,
 "nbformat_minor": 5
}
